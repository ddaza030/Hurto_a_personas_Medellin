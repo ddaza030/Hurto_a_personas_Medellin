{
 "cells": [
  {
   "cell_type": "code",
   "execution_count": 1,
   "id": "e7e7b76b",
   "metadata": {},
   "outputs": [],
   "source": [
    "import pandas as pd\n",
    "import numpy as np\n",
    "\n",
    "# for some basic operations\n",
    "import numpy as np \n",
    "import pandas as pd \n",
    "\n",
    "# for visualizations\n",
    "import matplotlib.pyplot as plt\n",
    "import seaborn as sns"
   ]
  },
  {
   "cell_type": "code",
   "execution_count": 2,
   "id": "8e5ec0b2",
   "metadata": {},
   "outputs": [
    {
     "data": {
      "text/html": [
       "<div>\n",
       "<style scoped>\n",
       "    .dataframe tbody tr th:only-of-type {\n",
       "        vertical-align: middle;\n",
       "    }\n",
       "\n",
       "    .dataframe tbody tr th {\n",
       "        vertical-align: top;\n",
       "    }\n",
       "\n",
       "    .dataframe thead th {\n",
       "        text-align: right;\n",
       "    }\n",
       "</style>\n",
       "<table border=\"1\" class=\"dataframe\">\n",
       "  <thead>\n",
       "    <tr style=\"text-align: right;\">\n",
       "      <th></th>\n",
       "      <th>fecha_hecho</th>\n",
       "      <th>cantidad</th>\n",
       "      <th>latitud</th>\n",
       "      <th>longitud</th>\n",
       "      <th>sexo</th>\n",
       "      <th>edad</th>\n",
       "      <th>estado_civil</th>\n",
       "      <th>grupo_actor</th>\n",
       "      <th>actividad_delictiva</th>\n",
       "      <th>parentesco</th>\n",
       "      <th>...</th>\n",
       "      <th>lugar</th>\n",
       "      <th>sede_receptora</th>\n",
       "      <th>bien</th>\n",
       "      <th>categoria_bien</th>\n",
       "      <th>grupo_bien</th>\n",
       "      <th>modelo</th>\n",
       "      <th>color</th>\n",
       "      <th>permiso</th>\n",
       "      <th>unidad_medida</th>\n",
       "      <th>fecha_ingestion</th>\n",
       "    </tr>\n",
       "  </thead>\n",
       "  <tbody>\n",
       "    <tr>\n",
       "      <th>0</th>\n",
       "      <td>2017-01-01T01:00:00.000-05:00</td>\n",
       "      <td>1.0</td>\n",
       "      <td>6.299703</td>\n",
       "      <td>-75.582016</td>\n",
       "      <td>Mujer</td>\n",
       "      <td>33</td>\n",
       "      <td>Unión marital de hecho</td>\n",
       "      <td>NaN</td>\n",
       "      <td>NaN</td>\n",
       "      <td>NaN</td>\n",
       "      <td>...</td>\n",
       "      <td>Vía pública</td>\n",
       "      <td>Doce de Octubre</td>\n",
       "      <td>Celular</td>\n",
       "      <td>Tecnología</td>\n",
       "      <td>Mercancía</td>\n",
       "      <td>-1</td>\n",
       "      <td>NaN</td>\n",
       "      <td>NaN</td>\n",
       "      <td>NaN</td>\n",
       "      <td>2021-10-22T14:53:30.000-05:00</td>\n",
       "    </tr>\n",
       "    <tr>\n",
       "      <th>1</th>\n",
       "      <td>2017-01-01T15:00:00.000-05:00</td>\n",
       "      <td>1.0</td>\n",
       "      <td>6.250917</td>\n",
       "      <td>-75.566160</td>\n",
       "      <td>Mujer</td>\n",
       "      <td>26</td>\n",
       "      <td>Soltero(a)</td>\n",
       "      <td>NaN</td>\n",
       "      <td>NaN</td>\n",
       "      <td>NaN</td>\n",
       "      <td>...</td>\n",
       "      <td>Vía pública</td>\n",
       "      <td>Candelaria</td>\n",
       "      <td>Celular</td>\n",
       "      <td>Tecnología</td>\n",
       "      <td>Mercancía</td>\n",
       "      <td>-1</td>\n",
       "      <td>NaN</td>\n",
       "      <td>NaN</td>\n",
       "      <td>NaN</td>\n",
       "      <td>2021-10-22T14:53:30.000-05:00</td>\n",
       "    </tr>\n",
       "    <tr>\n",
       "      <th>2</th>\n",
       "      <td>2017-01-01T14:00:00.000-05:00</td>\n",
       "      <td>1.0</td>\n",
       "      <td>6.274836</td>\n",
       "      <td>-75.554909</td>\n",
       "      <td>Hombre</td>\n",
       "      <td>30</td>\n",
       "      <td>Soltero(a)</td>\n",
       "      <td>NaN</td>\n",
       "      <td>NaN</td>\n",
       "      <td>NaN</td>\n",
       "      <td>...</td>\n",
       "      <td>Vía pública</td>\n",
       "      <td>Aranjuez</td>\n",
       "      <td>Celular</td>\n",
       "      <td>Tecnología</td>\n",
       "      <td>Mercancía</td>\n",
       "      <td>-1</td>\n",
       "      <td>Negro</td>\n",
       "      <td>NaN</td>\n",
       "      <td>NaN</td>\n",
       "      <td>2021-10-22T14:53:30.000-05:00</td>\n",
       "    </tr>\n",
       "    <tr>\n",
       "      <th>3</th>\n",
       "      <td>2017-01-01T16:00:00.000-05:00</td>\n",
       "      <td>1.0</td>\n",
       "      <td>6.276236</td>\n",
       "      <td>-75.553533</td>\n",
       "      <td>Hombre</td>\n",
       "      <td>37</td>\n",
       "      <td>Casado(a)</td>\n",
       "      <td>NaN</td>\n",
       "      <td>NaN</td>\n",
       "      <td>NaN</td>\n",
       "      <td>...</td>\n",
       "      <td>Vía pública</td>\n",
       "      <td>Aranjuez</td>\n",
       "      <td>Celular</td>\n",
       "      <td>Tecnología</td>\n",
       "      <td>Mercancía</td>\n",
       "      <td>-1</td>\n",
       "      <td>Negro</td>\n",
       "      <td>NaN</td>\n",
       "      <td>NaN</td>\n",
       "      <td>2021-10-22T14:53:30.000-05:00</td>\n",
       "    </tr>\n",
       "    <tr>\n",
       "      <th>4</th>\n",
       "      <td>2017-01-01T16:00:00.000-05:00</td>\n",
       "      <td>1.0</td>\n",
       "      <td>6.250339</td>\n",
       "      <td>-75.586914</td>\n",
       "      <td>Hombre</td>\n",
       "      <td>87</td>\n",
       "      <td>Casado(a)</td>\n",
       "      <td>NaN</td>\n",
       "      <td>NaN</td>\n",
       "      <td>NaN</td>\n",
       "      <td>...</td>\n",
       "      <td>Vía pública</td>\n",
       "      <td>Laureles</td>\n",
       "      <td>Billetera</td>\n",
       "      <td>Prendas de vestir y accesorios</td>\n",
       "      <td>Mercancía</td>\n",
       "      <td>-1</td>\n",
       "      <td>NaN</td>\n",
       "      <td>NaN</td>\n",
       "      <td>NaN</td>\n",
       "      <td>2021-10-22T14:53:30.000-05:00</td>\n",
       "    </tr>\n",
       "  </tbody>\n",
       "</table>\n",
       "<p>5 rows × 36 columns</p>\n",
       "</div>"
      ],
      "text/plain": [
       "                     fecha_hecho  cantidad   latitud   longitud    sexo  edad  \\\n",
       "0  2017-01-01T01:00:00.000-05:00       1.0  6.299703 -75.582016   Mujer    33   \n",
       "1  2017-01-01T15:00:00.000-05:00       1.0  6.250917 -75.566160   Mujer    26   \n",
       "2  2017-01-01T14:00:00.000-05:00       1.0  6.274836 -75.554909  Hombre    30   \n",
       "3  2017-01-01T16:00:00.000-05:00       1.0  6.276236 -75.553533  Hombre    37   \n",
       "4  2017-01-01T16:00:00.000-05:00       1.0  6.250339 -75.586914  Hombre    87   \n",
       "\n",
       "             estado_civil  grupo_actor  actividad_delictiva  parentesco  ...  \\\n",
       "0  Unión marital de hecho          NaN                  NaN         NaN  ...   \n",
       "1              Soltero(a)          NaN                  NaN         NaN  ...   \n",
       "2              Soltero(a)          NaN                  NaN         NaN  ...   \n",
       "3               Casado(a)          NaN                  NaN         NaN  ...   \n",
       "4               Casado(a)          NaN                  NaN         NaN  ...   \n",
       "\n",
       "         lugar   sede_receptora       bien                  categoria_bien  \\\n",
       "0  Vía pública  Doce de Octubre    Celular                      Tecnología   \n",
       "1  Vía pública       Candelaria    Celular                      Tecnología   \n",
       "2  Vía pública         Aranjuez    Celular                      Tecnología   \n",
       "3  Vía pública         Aranjuez    Celular                      Tecnología   \n",
       "4  Vía pública         Laureles  Billetera  Prendas de vestir y accesorios   \n",
       "\n",
       "   grupo_bien  modelo  color permiso  unidad_medida  \\\n",
       "0   Mercancía      -1    NaN     NaN            NaN   \n",
       "1   Mercancía      -1    NaN     NaN            NaN   \n",
       "2   Mercancía      -1  Negro     NaN            NaN   \n",
       "3   Mercancía      -1  Negro     NaN            NaN   \n",
       "4   Mercancía      -1    NaN     NaN            NaN   \n",
       "\n",
       "                 fecha_ingestion  \n",
       "0  2021-10-22T14:53:30.000-05:00  \n",
       "1  2021-10-22T14:53:30.000-05:00  \n",
       "2  2021-10-22T14:53:30.000-05:00  \n",
       "3  2021-10-22T14:53:30.000-05:00  \n",
       "4  2021-10-22T14:53:30.000-05:00  \n",
       "\n",
       "[5 rows x 36 columns]"
      ]
     },
     "execution_count": 2,
     "metadata": {},
     "output_type": "execute_result"
    }
   ],
   "source": [
    "df = pd.read_csv(\"data.csv\", sep=\";\", na_values = [\"Sin dato\", \"SIN DATO\"])\n",
    "df.head()"
   ]
  },
  {
   "cell_type": "code",
   "execution_count": 3,
   "id": "77e5e1e2",
   "metadata": {},
   "outputs": [
    {
     "name": "stdout",
     "output_type": "stream",
     "text": [
      "<class 'pandas.core.frame.DataFrame'>\n",
      "RangeIndex: 248937 entries, 0 to 248936\n",
      "Data columns (total 36 columns):\n",
      " #   Column               Non-Null Count   Dtype  \n",
      "---  ------               --------------   -----  \n",
      " 0   fecha_hecho          248937 non-null  object \n",
      " 1   cantidad             248937 non-null  float64\n",
      " 2   latitud              234706 non-null  float64\n",
      " 3   longitud             234706 non-null  float64\n",
      " 4   sexo                 247273 non-null  object \n",
      " 5   edad                 248937 non-null  int64  \n",
      " 6   estado_civil         239343 non-null  object \n",
      " 7   grupo_actor          0 non-null       float64\n",
      " 8   actividad_delictiva  0 non-null       float64\n",
      " 9   parentesco           0 non-null       float64\n",
      " 10  ocupacion            0 non-null       float64\n",
      " 11  discapacidad         0 non-null       float64\n",
      " 12  grupo_especial       0 non-null       float64\n",
      " 13  medio_transporte     233332 non-null  object \n",
      " 14  nivel_academico      0 non-null       float64\n",
      " 15  testigo              0 non-null       float64\n",
      " 16  conducta             248937 non-null  object \n",
      " 17  modalidad            238183 non-null  object \n",
      " 18  caracterizacion      0 non-null       float64\n",
      " 19  conducta_especial    89530 non-null   object \n",
      " 20  arma_medio           240868 non-null  object \n",
      " 21  articulo_penal       0 non-null       float64\n",
      " 22  categoria_penal      0 non-null       float64\n",
      " 23  nombre_barrio        248024 non-null  object \n",
      " 24  codigo_barrio        248024 non-null  object \n",
      " 25  codigo_comuna        248024 non-null  float64\n",
      " 26  lugar                245687 non-null  object \n",
      " 27  sede_receptora       243393 non-null  object \n",
      " 28  bien                 246440 non-null  object \n",
      " 29  categoria_bien       246440 non-null  object \n",
      " 30  grupo_bien           246440 non-null  object \n",
      " 31  modelo               248937 non-null  int64  \n",
      " 32  color                68233 non-null   object \n",
      " 33  permiso              0 non-null       float64\n",
      " 34  unidad_medida        0 non-null       float64\n",
      " 35  fecha_ingestion      248937 non-null  object \n",
      "dtypes: float64(17), int64(2), object(17)\n",
      "memory usage: 68.4+ MB\n"
     ]
    }
   ],
   "source": [
    "df.info()"
   ]
  },
  {
   "cell_type": "code",
   "execution_count": 4,
   "id": "7ed6a348",
   "metadata": {},
   "outputs": [
    {
     "data": {
      "text/html": [
       "<div>\n",
       "<style scoped>\n",
       "    .dataframe tbody tr th:only-of-type {\n",
       "        vertical-align: middle;\n",
       "    }\n",
       "\n",
       "    .dataframe tbody tr th {\n",
       "        vertical-align: top;\n",
       "    }\n",
       "\n",
       "    .dataframe thead th {\n",
       "        text-align: right;\n",
       "    }\n",
       "</style>\n",
       "<table border=\"1\" class=\"dataframe\">\n",
       "  <thead>\n",
       "    <tr style=\"text-align: right;\">\n",
       "      <th></th>\n",
       "      <th>latitud</th>\n",
       "      <th>longitud</th>\n",
       "      <th>sexo</th>\n",
       "      <th>edad</th>\n",
       "      <th>medio_transporte</th>\n",
       "      <th>modalidad</th>\n",
       "      <th>arma_medio</th>\n",
       "      <th>codigo_barrio</th>\n",
       "      <th>codigo_comuna</th>\n",
       "      <th>lugar</th>\n",
       "      <th>bien</th>\n",
       "    </tr>\n",
       "  </thead>\n",
       "  <tbody>\n",
       "    <tr>\n",
       "      <th>0</th>\n",
       "      <td>6.299703</td>\n",
       "      <td>-75.582016</td>\n",
       "      <td>Mujer</td>\n",
       "      <td>33</td>\n",
       "      <td>Caminata</td>\n",
       "      <td>Atraco</td>\n",
       "      <td>Arma cortopunzante</td>\n",
       "      <td>#0603</td>\n",
       "      <td>6.0</td>\n",
       "      <td>Vía pública</td>\n",
       "      <td>Celular</td>\n",
       "    </tr>\n",
       "    <tr>\n",
       "      <th>1</th>\n",
       "      <td>6.250917</td>\n",
       "      <td>-75.566160</td>\n",
       "      <td>Mujer</td>\n",
       "      <td>26</td>\n",
       "      <td>Caminata</td>\n",
       "      <td>Atraco</td>\n",
       "      <td>Arma cortopunzante</td>\n",
       "      <td>#1019</td>\n",
       "      <td>10.0</td>\n",
       "      <td>Vía pública</td>\n",
       "      <td>Celular</td>\n",
       "    </tr>\n",
       "    <tr>\n",
       "      <th>2</th>\n",
       "      <td>6.274836</td>\n",
       "      <td>-75.554909</td>\n",
       "      <td>Hombre</td>\n",
       "      <td>30</td>\n",
       "      <td>Caminata</td>\n",
       "      <td>Descuido</td>\n",
       "      <td>No</td>\n",
       "      <td>#0410</td>\n",
       "      <td>4.0</td>\n",
       "      <td>Vía pública</td>\n",
       "      <td>Celular</td>\n",
       "    </tr>\n",
       "    <tr>\n",
       "      <th>3</th>\n",
       "      <td>6.276236</td>\n",
       "      <td>-75.553533</td>\n",
       "      <td>Hombre</td>\n",
       "      <td>37</td>\n",
       "      <td>Taxi</td>\n",
       "      <td>Atraco</td>\n",
       "      <td>Arma de fuego</td>\n",
       "      <td>#0410</td>\n",
       "      <td>4.0</td>\n",
       "      <td>Vía pública</td>\n",
       "      <td>Celular</td>\n",
       "    </tr>\n",
       "    <tr>\n",
       "      <th>4</th>\n",
       "      <td>6.250339</td>\n",
       "      <td>-75.586914</td>\n",
       "      <td>Hombre</td>\n",
       "      <td>87</td>\n",
       "      <td>Caminata</td>\n",
       "      <td>Engaño</td>\n",
       "      <td>No</td>\n",
       "      <td>#1103</td>\n",
       "      <td>11.0</td>\n",
       "      <td>Vía pública</td>\n",
       "      <td>Billetera</td>\n",
       "    </tr>\n",
       "  </tbody>\n",
       "</table>\n",
       "</div>"
      ],
      "text/plain": [
       "    latitud   longitud    sexo  edad medio_transporte modalidad  \\\n",
       "0  6.299703 -75.582016   Mujer    33         Caminata    Atraco   \n",
       "1  6.250917 -75.566160   Mujer    26         Caminata    Atraco   \n",
       "2  6.274836 -75.554909  Hombre    30         Caminata  Descuido   \n",
       "3  6.276236 -75.553533  Hombre    37             Taxi    Atraco   \n",
       "4  6.250339 -75.586914  Hombre    87         Caminata    Engaño   \n",
       "\n",
       "           arma_medio codigo_barrio  codigo_comuna        lugar       bien  \n",
       "0  Arma cortopunzante         #0603            6.0  Vía pública    Celular  \n",
       "1  Arma cortopunzante         #1019           10.0  Vía pública    Celular  \n",
       "2                  No         #0410            4.0  Vía pública    Celular  \n",
       "3       Arma de fuego         #0410            4.0  Vía pública    Celular  \n",
       "4                  No         #1103           11.0  Vía pública  Billetera  "
      ]
     },
     "execution_count": 4,
     "metadata": {},
     "output_type": "execute_result"
    }
   ],
   "source": [
    "#se seleccionan los que no tienen tantos nulos y más relevantes\n",
    "data = df[[\"latitud\",\"longitud\",\"sexo\", \"edad\", \"medio_transporte\",\"modalidad\",\"arma_medio\",\"codigo_barrio\",\"codigo_comuna\",\"lugar\",\"bien\"]]\n",
    "data.head()"
   ]
  },
  {
   "cell_type": "code",
   "execution_count": 5,
   "id": "d3d1fd82",
   "metadata": {},
   "outputs": [
    {
     "name": "stderr",
     "output_type": "stream",
     "text": [
      "D:\\archivos_de_programa\\conda\\lib\\site-packages\\pandas\\util\\_decorators.py:311: SettingWithCopyWarning: \n",
      "A value is trying to be set on a copy of a slice from a DataFrame\n",
      "\n",
      "See the caveats in the documentation: https://pandas.pydata.org/pandas-docs/stable/user_guide/indexing.html#returning-a-view-versus-a-copy\n",
      "  return func(*args, **kwargs)\n"
     ]
    }
   ],
   "source": [
    "#se eliminan los que tienen alguna columna con nulo\n",
    "data.dropna(inplace = True)"
   ]
  },
  {
   "cell_type": "code",
   "execution_count": 6,
   "id": "c581a836",
   "metadata": {},
   "outputs": [
    {
     "data": {
      "text/plain": [
       "No                    98537\n",
       "Arma de fuego         56158\n",
       "Arma cortopunzante    42142\n",
       "Objeto contundente    12801\n",
       "Escopolamina           4700\n",
       "Llave maestra            30\n",
       "Perro                    18\n",
       "Tóxico o Químico          3\n",
       "Palanca                   1\n",
       "Name: arma_medio, dtype: int64"
      ]
     },
     "execution_count": 6,
     "metadata": {},
     "output_type": "execute_result"
    }
   ],
   "source": [
    "data[\"arma_medio\"].value_counts()"
   ]
  },
  {
   "cell_type": "code",
   "execution_count": 7,
   "id": "1fdbfaed",
   "metadata": {},
   "outputs": [],
   "source": [
    "#se eliminan los que tienen menos de 31 datos\n",
    "data = data[~data.arma_medio.isin(\n",
    "    ['Llave maestra', 'Perro', 'Palanca','Tóxico o Químico'])\n",
    "           ]"
   ]
  },
  {
   "cell_type": "code",
   "execution_count": 8,
   "id": "d883aff3",
   "metadata": {},
   "outputs": [
    {
     "name": "stderr",
     "output_type": "stream",
     "text": [
      "D:\\archivos_de_programa\\conda\\lib\\site-packages\\seaborn\\_decorators.py:36: FutureWarning: Pass the following variable as a keyword arg: x. From version 0.12, the only valid positional argument will be `data`, and passing other arguments without an explicit keyword will result in an error or misinterpretation.\n",
      "  warnings.warn(\n"
     ]
    },
    {
     "data": {
      "text/plain": [
       "<AxesSubplot:xlabel='arma_medio', ylabel='count'>"
      ]
     },
     "execution_count": 8,
     "metadata": {},
     "output_type": "execute_result"
    },
    {
     "data": {
      "image/png": "[encoded data removed]",
      "text/plain": [
       "<Figure size 1440x648 with 1 Axes>"
      ]
     },
     "metadata": {
      "needs_background": "light"
     },
     "output_type": "display_data"
    }
   ],
   "source": [
    "plt.rcParams['figure.figsize'] = (20, 9)\n",
    "sns.countplot(data['arma_medio'], palette = 'gnuplot')"
   ]
  },
  {
   "cell_type": "code",
   "execution_count": 9,
   "id": "6d3c7441",
   "metadata": {},
   "outputs": [
    {
     "data": {
      "text/plain": [
       "Caminata                      160206\n",
       "Automóvil                      22152\n",
       "Motocicleta                     9252\n",
       "Autobus                         7917\n",
       "Taxi                            6683\n",
       "Metro                           4845\n",
       "Bicicleta                       2334\n",
       "Motocicleta con parrillero       938\n",
       "Planeador                         11\n",
       "Name: medio_transporte, dtype: int64"
      ]
     },
     "execution_count": 9,
     "metadata": {},
     "output_type": "execute_result"
    }
   ],
   "source": [
    "data.medio_transporte.value_counts()"
   ]
  },
  {
   "cell_type": "code",
   "execution_count": 10,
   "id": "5c975add",
   "metadata": {},
   "outputs": [],
   "source": [
    "data = data[~data.medio_transporte.isin(['Planeador'])]"
   ]
  },
  {
   "cell_type": "code",
   "execution_count": 11,
   "id": "9c751c0d",
   "metadata": {},
   "outputs": [
    {
     "data": {
      "text/plain": [
       "<function matplotlib.pyplot.show(close=None, block=None)>"
      ]
     },
     "execution_count": 11,
     "metadata": {},
     "output_type": "execute_result"
    },
    {
     "data": {
      "image/png": "[encoded data removed]",
      "text/plain": [
       "<Figure size 1440x648 with 1 Axes>"
      ]
     },
     "metadata": {
      "needs_background": "light"
     },
     "output_type": "display_data"
    }
   ],
   "source": [
    "plt.boxplot(data.edad)\n",
    "plt.show"
   ]
  },
  {
   "cell_type": "code",
   "execution_count": 12,
   "id": "5161fdad",
   "metadata": {},
   "outputs": [
    {
     "name": "stdout",
     "output_type": "stream",
     "text": [
      "<class 'pandas.core.frame.DataFrame'>\n",
      "Int64Index: 213070 entries, 0 to 248935\n",
      "Data columns (total 11 columns):\n",
      " #   Column            Non-Null Count   Dtype  \n",
      "---  ------            --------------   -----  \n",
      " 0   latitud           213070 non-null  float64\n",
      " 1   longitud          213070 non-null  float64\n",
      " 2   sexo              213070 non-null  object \n",
      " 3   edad              213070 non-null  int64  \n",
      " 4   medio_transporte  213070 non-null  object \n",
      " 5   modalidad         213070 non-null  object \n",
      " 6   arma_medio        213070 non-null  object \n",
      " 7   codigo_barrio     213070 non-null  object \n",
      " 8   codigo_comuna     213070 non-null  float64\n",
      " 9   lugar             213070 non-null  object \n",
      " 10  bien              213070 non-null  object \n",
      "dtypes: float64(3), int64(1), object(7)\n",
      "memory usage: 19.5+ MB\n"
     ]
    }
   ],
   "source": [
    "data = data[(data[\"edad\"]<110) & (data[\"edad\"]>10)]\n",
    "data.info()"
   ]
  },
  {
   "cell_type": "code",
   "execution_count": 13,
   "id": "47680061",
   "metadata": {
    "scrolled": true
   },
   "outputs": [
    {
     "data": {
      "text/plain": [
       "<AxesSubplot:>"
      ]
     },
     "execution_count": 13,
     "metadata": {},
     "output_type": "execute_result"
    },
    {
     "data": {
      "image/png": "[encoded data removed]",
      "text/plain": [
       "<Figure size 1440x648 with 1 Axes>"
      ]
     },
     "metadata": {
      "needs_background": "light"
     },
     "output_type": "display_data"
    }
   ],
   "source": [
    "data.edad.hist(bins = 100)"
   ]
  },
  {
   "cell_type": "code",
   "execution_count": 14,
   "id": "4c0f9f6d",
   "metadata": {},
   "outputs": [
    {
     "name": "stderr",
     "output_type": "stream",
     "text": [
      "D:\\archivos_de_programa\\conda\\lib\\site-packages\\seaborn\\_decorators.py:36: FutureWarning: Pass the following variable as a keyword arg: x. From version 0.12, the only valid positional argument will be `data`, and passing other arguments without an explicit keyword will result in an error or misinterpretation.\n",
      "  warnings.warn(\n"
     ]
    },
    {
     "data": {
      "text/plain": [
       "<AxesSubplot:xlabel='codigo_comuna', ylabel='count'>"
      ]
     },
     "execution_count": 14,
     "metadata": {},
     "output_type": "execute_result"
    },
    {
     "data": {
      "image/png": "[encoded data removed]",
      "text/plain": [
       "<Figure size 1440x648 with 1 Axes>"
      ]
     },
     "metadata": {
      "needs_background": "light"
     },
     "output_type": "display_data"
    }
   ],
   "source": [
    "plt.rcParams['figure.figsize'] = (20, 9)\n",
    "sns.countplot(data['codigo_comuna'], palette = 'gnuplot')"
   ]
  },
  {
   "cell_type": "code",
   "execution_count": 15,
   "id": "28215fe7",
   "metadata": {
    "scrolled": true
   },
   "outputs": [
    {
     "data": {
      "text/plain": [
       "Index(['Atraco', 'Descuido', 'Cosquilleo', 'Raponazo', 'Engaño',\n",
       "       'Rompimiento cerraduta', 'Escopolamina', 'Rompimiento de ventana',\n",
       "       'Halado', 'Comisión de delito', 'Suplantación', 'Clonación de tarjeta',\n",
       "       'Paquete chileno', 'Fleteo', 'Miedo o terror', 'Retención de tarjeta',\n",
       "       'Abuso de confianza', 'Llave maestra', 'Simulando necesidad',\n",
       "       'Llamada millonaria', 'Informático', 'Forcejeo', 'Retención de dinero',\n",
       "       'Enfrentamiento con la fuerza pública', 'Vandalismo'],\n",
       "      dtype='object')"
      ]
     },
     "execution_count": 15,
     "metadata": {},
     "output_type": "execute_result"
    }
   ],
   "source": [
    "data.modalidad.value_counts().index"
   ]
  },
  {
   "cell_type": "code",
   "execution_count": 16,
   "id": "46d99fdb",
   "metadata": {},
   "outputs": [],
   "source": [
    "final_labels = data.modalidad.value_counts()[data.modalidad.value_counts()>=1000]\n",
    "data = data[data.modalidad.isin(final_labels.index)]"
   ]
  },
  {
   "cell_type": "code",
   "execution_count": 17,
   "id": "865113c7",
   "metadata": {},
   "outputs": [
    {
     "name": "stdout",
     "output_type": "stream",
     "text": [
      "<class 'pandas.core.frame.DataFrame'>\n",
      "Int64Index: 210750 entries, 0 to 248935\n",
      "Data columns (total 11 columns):\n",
      " #   Column            Non-Null Count   Dtype  \n",
      "---  ------            --------------   -----  \n",
      " 0   latitud           210750 non-null  float64\n",
      " 1   longitud          210750 non-null  float64\n",
      " 2   sexo              210750 non-null  object \n",
      " 3   edad              210750 non-null  int64  \n",
      " 4   medio_transporte  210750 non-null  object \n",
      " 5   modalidad         210750 non-null  object \n",
      " 6   arma_medio        210750 non-null  object \n",
      " 7   codigo_barrio     210750 non-null  object \n",
      " 8   codigo_comuna     210750 non-null  float64\n",
      " 9   lugar             210750 non-null  object \n",
      " 10  bien              210750 non-null  object \n",
      "dtypes: float64(3), int64(1), object(7)\n",
      "memory usage: 19.3+ MB\n"
     ]
    }
   ],
   "source": [
    "data.info()"
   ]
  },
  {
   "cell_type": "code",
   "execution_count": 18,
   "id": "909368c8",
   "metadata": {},
   "outputs": [],
   "source": [
    "data_labels = data[\"modalidad\"]\n",
    "data = data.drop(\"modalidad\",axis = 1)"
   ]
  },
  {
   "cell_type": "markdown",
   "id": "7b727e97",
   "metadata": {},
   "source": [
    "## transformación de los datos"
   ]
  },
  {
   "cell_type": "code",
   "execution_count": 19,
   "id": "a6f9aed1",
   "metadata": {},
   "outputs": [],
   "source": [
    "cat = [\"sexo\",\"medio_transporte\",\"arma_medio\",\"codigo_barrio\",\"lugar\",\"bien\"]\n",
    "num = [\"latitud\", \"longitud\", \"edad\", \"codigo_comuna\"]"
   ]
  },
  {
   "cell_type": "code",
   "execution_count": 20,
   "id": "15b5f603",
   "metadata": {},
   "outputs": [],
   "source": [
    "from sklearn.compose import ColumnTransformer\n",
    "from sklearn.preprocessing import OneHotEncoder\n",
    "from sklearn.preprocessing import StandardScaler\n",
    "\n",
    "full_pipeline = ColumnTransformer([\n",
    "    (\"cat\", OneHotEncoder(), cat),\n",
    "    (\"num\", StandardScaler(), num)\n",
    "])"
   ]
  },
  {
   "cell_type": "code",
   "execution_count": 21,
   "id": "4b217bb0",
   "metadata": {},
   "outputs": [],
   "source": [
    "data_prepared = full_pipeline.fit_transform(data)"
   ]
  },
  {
   "cell_type": "markdown",
   "id": "1a24e813",
   "metadata": {},
   "source": [
    "## training process"
   ]
  },
  {
   "cell_type": "code",
   "execution_count": 22,
   "id": "df426751",
   "metadata": {},
   "outputs": [],
   "source": [
    "from sklearn.model_selection import train_test_split\n",
    "from sklearn.linear_model import LinearRegression, LogisticRegression\n",
    "\n",
    "X_train, X_test, y_train, y_test = train_test_split(data_prepared, data_labels)\n"
   ]
  },
  {
   "cell_type": "code",
   "execution_count": 27,
   "id": "dc1f0dfb",
   "metadata": {},
   "outputs": [
    {
     "name": "stdout",
     "output_type": "stream",
     "text": [
      "R-squared test score: 0.778\n",
      "R-squared train score: 1.000\n"
     ]
    }
   ],
   "source": [
    "from sklearn.tree import DecisionTreeClassifier\n",
    "\n",
    "tree = DecisionTreeClassifier().fit(X_train, y_train)\n",
    "print('R-squared test score: {:.3f}'\n",
    "     .format(tree.score(X_test, y_test)))\n",
    "print('R-squared train score: {:.3f}'\n",
    "     .format(tree.score(X_train, y_train)))"
   ]
  },
  {
   "cell_type": "code",
   "execution_count": null,
   "id": "e21b353b",
   "metadata": {},
   "outputs": [],
   "source": [
    "from sklearn.tree import DecisionTreeClassifier\n",
    "\n",
    "tree1 = DecisionTreeClassifier(max_depth = 50).fit(X_train, y_train)\n",
    "print('R-squared test score: {:.3f}'\n",
    "     .format(tree1.score(X_test, y_test)))\n",
    "print('R-squared train score: {:.3f}'\n",
    "     .format(tree1.score(X_train, y_train)))"
   ]
  },
  {
   "cell_type": "code",
   "execution_count": null,
   "id": "20ef3de8",
   "metadata": {},
   "outputs": [],
   "source": []
  }
 ],
 "metadata": {
  "kernelspec": {
   "display_name": "Python 3 (ipykernel)",
   "language": "python",
   "name": "python3"
  },
  "language_info": {
   "codemirror_mode": {
    "name": "ipython",
    "version": 3
   },
   "file_extension": ".py",
   "mimetype": "text/x-python",
   "name": "python",
   "nbconvert_exporter": "python",
   "pygments_lexer": "ipython3",
   "version": "3.9.7"
  }
 },
 "nbformat": 4,
 "nbformat_minor": 5
}
